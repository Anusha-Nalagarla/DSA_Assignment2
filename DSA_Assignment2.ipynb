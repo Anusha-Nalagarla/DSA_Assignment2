{
 "cells": [
  {
   "cell_type": "markdown",
   "id": "35587149",
   "metadata": {},
   "source": [
    "Question 1 Given an integer array nums of 2n integers, group these integers into n pairs (a1, b1), (a2, b2),..., (an, bn) such that the sum of min(ai, bi) for all i is maximized. Return the maximized sum."
   ]
  },
  {
   "cell_type": "code",
   "execution_count": null,
   "id": "bef39637",
   "metadata": {},
   "outputs": [],
   "source": [
    "def Q1(nums):\n",
    "    nums.sort()\n",
    "    j=0\n",
    "    for i in range(0,len(nums),2):\n",
    "        j+=min(nums[i],nums[i+1])\n",
    "    return j\n",
    "Q1([1,4,3,2])"
   ]
  },
  {
   "cell_type": "markdown",
   "id": "e916bcc1",
   "metadata": {},
   "source": [
    "Question 2 Alice has n candies, where the ith candy is of type candyType[i]. Alice noticed that she started to gain weight, so she visited a doctor.\n",
    "The doctor advised Alice to only eat n / 2 of the candies she has (n is always even). Alice likes her candies very much, and she wants to eat the maximum number of different types of candies while still following the doctor's advice."
   ]
  },
  {
   "cell_type": "code",
   "execution_count": null,
   "id": "a571470d",
   "metadata": {},
   "outputs": [],
   "source": [
    "def Q2(nums):\n",
    "    \n",
    "    return min(len(set(nums)), len(nums) // 2)\n",
    "\n",
    "Q2([1,1,2,2,3,3])"
   ]
  },
  {
   "cell_type": "markdown",
   "id": "0bec7bf7",
   "metadata": {},
   "source": [
    "Question 3 We define a harmonious array as an array where the difference between its maximum value and its minimum value is exactly 1.\n",
    "Given an integer array nums, return the length of its longest harmonious subsequence among all its possible subsequences."
   ]
  },
  {
   "cell_type": "code",
   "execution_count": null,
   "id": "df981689",
   "metadata": {},
   "outputs": [],
   "source": [
    "def Q3(nums):\n",
    "    numsLen, left, result = len(nums), 0, 0\n",
    "    nums = sorted(nums)\n",
    "    for i in range(numsLen):\n",
    "        while(left < i and nums[i] - nums[left] > 1):\n",
    "            left += 1\n",
    "        if nums[i] - nums[left] == 1:\n",
    "            result = max(i - left + 1, result)\n",
    "    return result\n",
    "Q3([1,3,2,2,5,2,3,7])"
   ]
  },
  {
   "cell_type": "markdown",
   "id": "9bcee7ac",
   "metadata": {},
   "source": [
    "Question 4 You have a long flowerbed in which some of the plots are planted, and some are not. However, flowers cannot be planted in adjacent plots. Given an integer array flowerbed containing 0's and 1's, where 0 means empty and 1 means not empty, and an integer n, return true if n new flowers can be planted in the flowerbed without violating the no-adjacent-flowers rule and false otherwise."
   ]
  },
  {
   "cell_type": "code",
   "execution_count": null,
   "id": "04038eca",
   "metadata": {},
   "outputs": [],
   "source": [
    "def Q4(j,n):\n",
    "    i=0\n",
    "    count = 0\n",
    "    nums=len(j)\n",
    "    while (i < nums):\n",
    "      if (j[i] == 0 and (i == 0 or j[i - 1] == 0) and (i == j-1 or j[i + 1] == 0)):\n",
    "          j[i] = 1\n",
    "          count+1\n",
    "      i+1\n",
    "    return count >= n         \n",
    "    \n",
    "Q4([1,0,0,0,1], 1 )"
   ]
  },
  {
   "cell_type": "markdown",
   "id": "74bb1f15",
   "metadata": {},
   "source": [
    "Question 5 Given an integer array nums, find three numbers whose product is maximum and return the maximum product."
   ]
  },
  {
   "cell_type": "code",
   "execution_count": null,
   "id": "ade834de",
   "metadata": {},
   "outputs": [],
   "source": [
    "def Q5(nums):\n",
    "    m = len(nums)\n",
    "    nums = sorted(nums)\n",
    "    return max(nums[m - 1] * nums[m - 2] * nums[m - 3], nums[m - 1] * nums[0] * nums[1])\n",
    "Q5([1,2,3])"
   ]
  },
  {
   "cell_type": "markdown",
   "id": "b084c9fb",
   "metadata": {},
   "source": [
    "Question 6 Given an array of integers nums which is sorted in ascending order, and an integer target, write a function to search target in nums. If target exists, then return its index. Otherwise, return -1."
   ]
  },
  {
   "cell_type": "code",
   "execution_count": null,
   "id": "547df6c4",
   "metadata": {},
   "outputs": [],
   "source": [
    "def Q6(nums,target):\n",
    "    if target in nums:\n",
    "        return nums.index(target)\n",
    "    else:\n",
    "        return -1\n",
    "Q6([-1,0,3,5,9,12], 9)"
   ]
  },
  {
   "cell_type": "markdown",
   "id": "3b420a5e",
   "metadata": {},
   "source": [
    "Question 7 An array is monotonic if it is either monotone increasing or monotone decreasing.\n",
    "An array nums is monotone increasing if for all i <= j, nums[i] <= nums[j]. An array nums is monotone decreasing if for all i <= j, nums[i] >= nums[j]."
   ]
  },
  {
   "cell_type": "code",
   "execution_count": null,
   "id": "ffe8a405",
   "metadata": {},
   "outputs": [],
   "source": [
    "def Q7(nums):\n",
    "    x, y = [], []\n",
    "    x.append(nums)\n",
    "    y.append(nums)\n",
    "    x.sort()\n",
    "    y.sort()\n",
    "    print(x,y)\n",
    "    if(x == nums or y == nums):\n",
    "        return True\n",
    "    return False\n",
    "Q7([1,2,2,3])"
   ]
  },
  {
   "cell_type": "markdown",
   "id": "53bfd5a0",
   "metadata": {},
   "source": [
    "💡 Question 8 You are given an integer array nums and an integer k.\n",
    "In one operation, you can choose any index i where 0 <= i < nums.length and change nums[i] to nums[i] + x where x is an integer from the range [-k, k]. You can apply this operation at most once for each index i.\n",
    "The score of nums is the difference between the maximum and minimum elements in nums.\n",
    "Return the minimum score of nums after applying the mentioned operation at most once for each index in it."
   ]
  },
  {
   "cell_type": "code",
   "execution_count": null,
   "id": "0a6b032e",
   "metadata": {},
   "outputs": [],
   "source": [
    "def Q8(nums, k):\n",
    "    nums.sort()\n",
    "    #print(nums)\n",
    "    return max(nums)-min(nums)\n",
    "Q8([1,2],0)"
   ]
  },
  {
   "cell_type": "code",
   "execution_count": null,
   "id": "9bf1e7cc",
   "metadata": {},
   "outputs": [],
   "source": []
  }
 ],
 "metadata": {
  "kernelspec": {
   "display_name": "Python 3 (ipykernel)",
   "language": "python",
   "name": "python3"
  },
  "language_info": {
   "codemirror_mode": {
    "name": "ipython",
    "version": 3
   },
   "file_extension": ".py",
   "mimetype": "text/x-python",
   "name": "python",
   "nbconvert_exporter": "python",
   "pygments_lexer": "ipython3",
   "version": "3.9.12"
  }
 },
 "nbformat": 4,
 "nbformat_minor": 5
}
